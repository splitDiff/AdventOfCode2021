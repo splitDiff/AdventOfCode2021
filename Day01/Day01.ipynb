{
 "cells": [
  {
   "cell_type": "markdown",
   "metadata": {},
   "source": [
    "How many measurements are larger than the previous measurement?"
   ]
  },
  {
   "cell_type": "code",
   "execution_count": 1,
   "metadata": {},
   "outputs": [
    {
     "name": "stdout",
     "output_type": "stream",
     "text": [
      "There are 1616 increases. There are 383 decreases.\n"
     ]
    }
   ],
   "source": [
    "data = open(r\"data1.txt\").readlines()\n",
    "\n",
    "data = list(map(int, data)) # convert to int, not str!\n",
    "\n",
    "decrease, increase = 0, 0\n",
    "\n",
    "for i, d in enumerate(data):\n",
    "    if i == 0:\n",
    "        continue\n",
    "    if data[i-1] < data[i]:\n",
    "        increase += 1\n",
    "    else:\n",
    "        decrease += 1\n",
    "\n",
    "print(f\"There are {increase} increases. There are {decrease} decreases.\")"
   ]
  },
  {
   "cell_type": "markdown",
   "metadata": {},
   "source": [
    "Your goal now is to count the number of times the sum of measurements in this sliding window increases from the previous sum. So, compare A with B, then compare B with C, then C with D, and so on. Stop when there aren't enough measurements left to create a new three-measurement sum."
   ]
  },
  {
   "cell_type": "code",
   "execution_count": 2,
   "metadata": {},
   "outputs": [
    {
     "name": "stdout",
     "output_type": "stream",
     "text": [
      "There are 1645 sliding window increases. There are 352 decreases.\n"
     ]
    }
   ],
   "source": [
    "data = open(r\"data1.txt\").readlines()\n",
    "\n",
    "data = list(map(int, data))\n",
    "\n",
    "def rolling_sum(data, i):\n",
    "    return data[i] + data[i + 1] + data[i + 2]\n",
    "\n",
    "decrease, increase = 0, 0\n",
    "\n",
    "for i in range(1, len(data) - 2):\n",
    "    if rolling_sum(data, i-1) < rolling_sum(data, i):\n",
    "        increase += 1\n",
    "    else:\n",
    "        decrease += 1\n",
    "\n",
    "print(f\"There are {increase} sliding window increases. There are {decrease} decreases.\")"
   ]
  }
 ],
 "metadata": {
  "interpreter": {
   "hash": "d4cc9412d9f82981c0d7a5a497eb4af5e8ce5b3920eca8d37c4bf47eaa6fede4"
  },
  "kernelspec": {
   "display_name": "Python 3.10.0 64-bit (windows store)",
   "language": "python",
   "name": "python3"
  },
  "language_info": {
   "codemirror_mode": {
    "name": "ipython",
    "version": 3
   },
   "file_extension": ".py",
   "mimetype": "text/x-python",
   "name": "python",
   "nbconvert_exporter": "python",
   "pygments_lexer": "ipython3",
   "version": "3.10.0"
  },
  "orig_nbformat": 4
 },
 "nbformat": 4,
 "nbformat_minor": 2
}
