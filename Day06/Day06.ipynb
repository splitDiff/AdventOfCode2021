{
 "cells": [
  {
   "cell_type": "markdown",
   "metadata": {},
   "source": [
    "Find a way to simulate lanternfish. How many lanternfish would there be after 80 days?"
   ]
  },
  {
   "cell_type": "code",
   "execution_count": 50,
   "metadata": {},
   "outputs": [
    {
     "name": "stdout",
     "output_type": "stream",
     "text": [
      "after 80 days, there are 353079 fish\n"
     ]
    }
   ],
   "source": [
    "import copy\n",
    "\n",
    "final = 1\n",
    "\n",
    "if not final:\n",
    "    data = open(r\"data0.txt\").readlines()\n",
    "else:\n",
    "    data = open(r\"data1.txt\").readlines()\n",
    "\n",
    "fishes = list(map(int, data[0].split(\",\")))\n",
    "\n",
    "start_fishes = copy.copy(fishes)\n",
    "\n",
    "def process_fishes(fishes: list)-> list:\n",
    "    out_fishes = []\n",
    "    new_fishes = []\n",
    "    for fish in fishes:\n",
    "        new_fish = fish - 1\n",
    "        if new_fish == -1:\n",
    "            new_fishes.append(8)\n",
    "            out_fishes.append(6)\n",
    "        else: \n",
    "            out_fishes.append(new_fish)\n",
    "\n",
    "    return out_fishes + new_fishes\n",
    "\n",
    "max_days = 80\n",
    "\n",
    "for days in range(max_days):\n",
    "    fishes = process_fishes(fishes)\n",
    "\n",
    "print(f\"after {max_days} days, there are {len(fishes)} fish\")\n"
   ]
  },
  {
   "cell_type": "markdown",
   "metadata": {},
   "source": [
    "How many lanternfish would there be after 256 days?"
   ]
  },
  {
   "cell_type": "code",
   "execution_count": 51,
   "metadata": {},
   "outputs": [
    {
     "name": "stdout",
     "output_type": "stream",
     "text": [
      "0\t88\t59\t46\t57\t50\t0\t0\t0\t\n",
      "\n",
      "142746850645\t161445834169\t173147455503\t188213928352\t210215568893\t220454466580\t252564145068\t119195054909\t137416825917\t\n",
      "\n",
      "after 256 days, there are 1605400130036 fish\n"
     ]
    }
   ],
   "source": [
    "fishes = start_fishes\n",
    "\n",
    "fish_dict = {}\n",
    "for i in range(9):\n",
    "    fish_dict[i] = 0\n",
    "\n",
    "for stage in fish_dict.keys():\n",
    "    fish_dict[stage] = sum([fish == stage for fish in fishes])\n",
    "\n",
    "def process_fish_dict(fish_dict:dict) -> dict:\n",
    "    new_fish_dict = {}\n",
    "    for stage in range(9):\n",
    "        if stage == 0:\n",
    "            new_fish_dict[8] = fish_dict[0]\n",
    "        if stage == 7:\n",
    "            new_fish_dict[6] = fish_dict[0] + fish_dict[7]\n",
    "        else:\n",
    "            new_fish_dict[stage - 1] = fish_dict[stage]\n",
    "    return new_fish_dict\n",
    "\n",
    "def print_fish_dict(fish_dict:dict) -> None:\n",
    "    for stage in range(9):\n",
    "        print(f\"{fish_dict[stage]}\\t\", end='')\n",
    "    print(\"\\n\")\n",
    "\n",
    "max_days = 256\n",
    "\n",
    "print_fish_dict(fish_dict)\n",
    "\n",
    "for day in range(max_days):\n",
    "    fish_dict = process_fish_dict(fish_dict)\n",
    "    # print_fish_dict(fish_dict)\n",
    "\n",
    "print_fish_dict(fish_dict)\n",
    "\n",
    "total = 0\n",
    "for stage in range(9):\n",
    "    total += fish_dict[stage]\n",
    "\n",
    "print(f\"after {max_days} days, there are {total} fish\")\n"
   ]
  }
 ],
 "metadata": {
  "interpreter": {
   "hash": "d4cc9412d9f82981c0d7a5a497eb4af5e8ce5b3920eca8d37c4bf47eaa6fede4"
  },
  "kernelspec": {
   "display_name": "Python 3.10.1 64-bit (windows store)",
   "language": "python",
   "name": "python3"
  },
  "language_info": {
   "codemirror_mode": {
    "name": "ipython",
    "version": 3
   },
   "file_extension": ".py",
   "mimetype": "text/x-python",
   "name": "python",
   "nbconvert_exporter": "python",
   "pygments_lexer": "ipython3",
   "version": "3.10.1"
  },
  "orig_nbformat": 4
 },
 "nbformat": 4,
 "nbformat_minor": 2
}
