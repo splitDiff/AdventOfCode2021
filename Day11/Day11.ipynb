{
 "cells": [
  {
   "cell_type": "markdown",
   "metadata": {},
   "source": [
    "Given the starting energy levels of the dumbo octopuses in your cavern, simulate 100 steps. How many total flashes are there after 100 steps?"
   ]
  },
  {
   "cell_type": "code",
   "execution_count": 61,
   "metadata": {},
   "outputs": [
    {
     "name": "stdout",
     "output_type": "stream",
     "text": [
      "After 100 steps, the flash count is 1725\n"
     ]
    }
   ],
   "source": [
    "\n",
    "def get_data(final = 0):\n",
    "    if not final:\n",
    "        data = open(r\"data0.txt\").readlines()\n",
    "    else:\n",
    "        data = open(r\"data1.txt\").readlines()\n",
    "\n",
    "    return list(map(str.strip, data))\n",
    "\n",
    "class Octopus():\n",
    "    # class variable to track all flashes\n",
    "    flash_count = 0\n",
    "\n",
    "    def __init__(self, energy) -> None:\n",
    "       self.energy:int = energy\n",
    "       self.flashed:bool = False\n",
    "       self.neighbors:list = []\n",
    "       flash_count = 0\n",
    "\n",
    "    # print helper\n",
    "    def __str__(self) -> str:\n",
    "        return str(self.energy)\n",
    "    \n",
    "    # flash!\n",
    "    def flash(self):\n",
    "        self.energy = 0\n",
    "        Octopus.flash_count += 1\n",
    "        self.flashed = True\n",
    "    \n",
    "    # step the energy, flash if needed, step the neighbors if flash\n",
    "    def step(self):\n",
    "        if not self.flashed:\n",
    "            self.energy += 1\n",
    "            if self.energy == 10:\n",
    "                self.flash()\n",
    "                for n in self.neighbors:\n",
    "                    n.step()\n",
    "    \n",
    "#print helper\n",
    "def print_cave(octopuses:list[Octopus]):\n",
    "    for r in octopuses:\n",
    "        for o in r:\n",
    "            print(o, end='')\n",
    "        print()\n",
    "\n",
    "# iterate over the cave and step every octopus\n",
    "def step_cave(octopuses:list[Octopus]):\n",
    "    for row in octopuses:\n",
    "        for octopus in row:\n",
    "            octopus.step()\n",
    "    return octopuses\n",
    "\n",
    "# iterate over the cave and reset the flash at the start of a step\n",
    "def reset_flashes(octopuses:list[list[Octopus]]):\n",
    "    for row in octopuses:\n",
    "        for octopus in row:\n",
    "            octopus.flashed = False\n",
    "\n",
    "# configure each octopus so that it knows its neighbors\n",
    "def setup_cave(octopuses):\n",
    "    Octopus.flash_count = 0\n",
    "    max_x = len(octopuses[0])\n",
    "    max_y = len(octopuses)\n",
    "\n",
    "    for y, row in enumerate(octopuses):\n",
    "        for x, octopus in enumerate(row):\n",
    "            directions = zip([-1,-1,-1,0,0,1,1,1], [-1,0,1,-1,1,-1,0,1])\n",
    "            if x == 0:\n",
    "                directions = filter(lambda d: d[0] != -1, directions)\n",
    "            if x == max_x - 1:\n",
    "                directions = filter(lambda d: d[0] != 1, directions)\n",
    "            if y == 0:\n",
    "                directions = filter(lambda d: d[1] != -1, directions)\n",
    "            if y == max_y - 1:\n",
    "                directions = filter(lambda d: d[1] != 1, directions)\n",
    "            for d in directions:\n",
    "                octopus.neighbors.append(octopuses[y + d[1]][x + d[0]])\n",
    "\n",
    "\n",
    "octopuses = []\n",
    "for line in get_data(final=1):\n",
    "    octopuses.append([Octopus(int(c)) for c in line])\n",
    "\n",
    "setup_cave(octopuses)\n",
    "\n",
    "steps = 100\n",
    "for step in range(steps):\n",
    "    step_cave(octopuses)\n",
    "    reset_flashes(octopuses)\n",
    "\n",
    "# print_cave(octopuses)\n",
    "print(f\"After {step + 1} steps, the flash count is {Octopus.flash_count}\")\n",
    "\n"
   ]
  },
  {
   "cell_type": "markdown",
   "metadata": {},
   "source": [
    "If you can calculate the exact moments when the octopuses will all flash simultaneously, you should be able to navigate through the cavern. What is the first step during which all octopuses flash?"
   ]
  },
  {
   "cell_type": "code",
   "execution_count": 62,
   "metadata": {},
   "outputs": [
    {
     "name": "stdout",
     "output_type": "stream",
     "text": [
      "All octopuses flash for the first time on step 308\n"
     ]
    }
   ],
   "source": [
    "# check to see if all octopuses just flashed, i.e. energy = 0\n",
    "def all_flash(octopuses:list[list[Octopus]]) -> bool:\n",
    "    for row in octopuses:\n",
    "        for octopus in row:\n",
    "            if octopus.energy != 0:\n",
    "                return False\n",
    "    return True\n",
    "\n",
    "octopuses = []\n",
    "for l in get_data(final=1):\n",
    "    octopuses.append([Octopus(int(c)) for c in l])\n",
    "\n",
    "setup_cave(octopuses)\n",
    "\n",
    "steps = 5000 # arbitrary stop\n",
    "for step in range(steps):\n",
    "    step_cave(octopuses)\n",
    "    reset_flashes(octopuses)\n",
    "    if all_flash(octopuses):\n",
    "        print(f\"All octopuses flash for the first time on step {step + 1}\")\n",
    "        break\n"
   ]
  }
 ],
 "metadata": {
  "interpreter": {
   "hash": "d4cc9412d9f82981c0d7a5a497eb4af5e8ce5b3920eca8d37c4bf47eaa6fede4"
  },
  "kernelspec": {
   "display_name": "Python 3.10.1 64-bit (windows store)",
   "language": "python",
   "name": "python3"
  },
  "language_info": {
   "codemirror_mode": {
    "name": "ipython",
    "version": 3
   },
   "file_extension": ".py",
   "mimetype": "text/x-python",
   "name": "python",
   "nbconvert_exporter": "python",
   "pygments_lexer": "ipython3",
   "version": "3.10.1"
  },
  "orig_nbformat": 4
 },
 "nbformat": 4,
 "nbformat_minor": 2
}
