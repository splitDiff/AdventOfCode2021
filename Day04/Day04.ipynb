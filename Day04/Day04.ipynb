{
 "cells": [
  {
   "cell_type": "markdown",
   "metadata": {},
   "source": [
    "The score of the winning board can now be calculated. Start by finding the sum of all unmarked numbers on that board. Then, multiply that sum by the number that was just called when the board won to get the final score.\n",
    "\n",
    "To guarantee victory against the giant squid, figure out which board will win first. What will your final score be if you choose that board?"
   ]
  },
  {
   "cell_type": "code",
   "execution_count": 50,
   "metadata": {},
   "outputs": [],
   "source": [
    "import re\n",
    "import copy\n",
    "\n",
    "def print_card(card):\n",
    "    print('-' * 5)\n",
    "    for row in card:\n",
    "        print('\\t'.join(row))\n",
    "\n",
    "final = 1\n",
    "\n",
    "if not final:\n",
    "    data = open(r\"data0.txt\").readlines()\n",
    "else:\n",
    "    data = open(r\"data1.txt\").readlines()\n",
    "\n",
    "data = list(map(str.strip, data))\n",
    "\n",
    "calls = data[0].split(\",\")\n",
    "\n",
    "cards = []\n",
    "card_count = (len(data) - 1) // 6\n",
    "\n",
    "for c in range(0, card_count):\n",
    "    cards.append(list(re.split(r\"\\s+\", n) for n in data[(c * 6) + 2: (c * 6) + 7]))\n",
    "\n",
    "cards_copy = copy.deepcopy(cards)\n"
   ]
  },
  {
   "cell_type": "code",
   "execution_count": 51,
   "metadata": {},
   "outputs": [
    {
     "name": "stdout",
     "output_type": "stream",
     "text": [
      "-----\n",
      "78\t80\t98\t62\tX\n",
      "X\t53\t91\t81\tX\n",
      "X\t15\tX\t63\tX\n",
      "X\t6\tX\t64\tX\n",
      "X\t45\t95\t68\tX\n",
      "Sum of remaining numbers 899, call 99, product 89001\n"
     ]
    }
   ],
   "source": [
    "found = False\n",
    "\n",
    "for call in calls:\n",
    "    if not found:\n",
    "        for i, card in enumerate(cards):\n",
    "            for j, row in enumerate(card):\n",
    "                for k, num in enumerate(row):\n",
    "                    if num == call:\n",
    "                        cards[i][j][k] = \"X\"\n",
    "                        if ''.join(cards[i][j]) == 'XXXXX':\n",
    "                            found = card, call\n",
    "                        rx = []\n",
    "                        for r, _ in enumerate(card):\n",
    "                            rx.append(card[r][k])\n",
    "                        if ''.join(rx) == 'XXXXX':\n",
    "                            found = card, call                  \n",
    "\n",
    "\n",
    "print_card(found[0])\n",
    "\n",
    "sum = 0\n",
    "\n",
    "for j, row in enumerate(found[0]):\n",
    "    for k, num in enumerate(row):\n",
    "        if num != 'X':\n",
    "            sum += int(num)\n",
    "\n",
    "print(f\"Sum of remaining numbers {sum}, call {found[1]}, product {sum * int(found[1])}\")\n",
    "\n",
    "\n"
   ]
  },
  {
   "cell_type": "markdown",
   "metadata": {},
   "source": [
    "You aren't sure how many bingo boards a giant squid could play at once, so rather than waste time counting its arms, the safe thing to do is to figure out which board will win last and choose that one. That way, no matter which boards it picks, it will win for sure."
   ]
  },
  {
   "cell_type": "code",
   "execution_count": 52,
   "metadata": {},
   "outputs": [
    {
     "name": "stdout",
     "output_type": "stream",
     "text": [
      "-----\n",
      "X\tX\t72\tX\t1\n",
      "34\tX\tX\tX\tX\n",
      "29\tX\tX\tX\tX\n",
      "16\tX\tX\t40\tX\n",
      "X\tX\tX\tX\tX\n",
      "Sum of remaining numbers 192, call 38, product 7296\n"
     ]
    }
   ],
   "source": [
    "cards = copy.deepcopy(cards_copy) # need a clean copy of the original\n",
    "\n",
    "open_card = [1] * len(cards) # list of cards that have not yet won\n",
    "\n",
    "found = 0, 0\n",
    "\n",
    "for call in calls:\n",
    "    if open_card.count(1) > 0:\n",
    "        for i, card in enumerate(cards):\n",
    "            if open_card[i] == 1: # (premature optimization, thy name is me)\n",
    "                for j, row in enumerate(card):\n",
    "                    for k, num in enumerate(row):\n",
    "                        if num == call: # check the spot against the called number\n",
    "                            card[j][k] = \"X\" # mark the spot\n",
    "                            if ''.join(card[j]) == 'XXXXX': # check the row\n",
    "                                open_card[i] = 0            # mark the card won\n",
    "                                found = card, call\n",
    "                            rx = [] \n",
    "                            for r, _ in enumerate(card): # build the column\n",
    "                                rx.append(card[r][k])\n",
    "                            if ''.join(rx) == 'XXXXX': # check the column\n",
    "                                open_card[i] = 0       # mark the card won\n",
    "                                found = card, call\n",
    "\n",
    "print_card(found[0])\n",
    "\n",
    "sum = 0\n",
    "\n",
    "for j, row in enumerate(found[0]):\n",
    "    for k, num in enumerate(row):\n",
    "        if num != 'X':\n",
    "            sum += int(num)\n",
    "\n",
    "print(f\"Sum of remaining numbers {sum}, call {found[1]}, product {sum * int(found[1])}\")\n",
    "\n"
   ]
  }
 ],
 "metadata": {
  "interpreter": {
   "hash": "d4cc9412d9f82981c0d7a5a497eb4af5e8ce5b3920eca8d37c4bf47eaa6fede4"
  },
  "kernelspec": {
   "display_name": "Python 3.10.0 64-bit (windows store)",
   "language": "python",
   "name": "python3"
  },
  "language_info": {
   "codemirror_mode": {
    "name": "ipython",
    "version": 3
   },
   "file_extension": ".py",
   "mimetype": "text/x-python",
   "name": "python",
   "nbconvert_exporter": "python",
   "pygments_lexer": "ipython3",
   "version": "3.10.0"
  },
  "orig_nbformat": 4
 },
 "nbformat": 4,
 "nbformat_minor": 2
}
