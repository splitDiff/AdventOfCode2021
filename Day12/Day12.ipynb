{
 "cells": [
  {
   "cell_type": "markdown",
   "metadata": {},
   "source": [
    "How many paths through this cave system are there that visit small caves at most once?"
   ]
  },
  {
   "cell_type": "markdown",
   "metadata": {},
   "source": [
    "START start at cave marked start and empty path\n",
    "\n",
    "* LOOP - while path_stack is not empty\n",
    "    * END? - if cave name is 'end' mark path as success and start work on next path\n",
    "    * GET UNVISITED - All connected uppercase and all connected lowers that are not in the path already\n",
    "    * PUSH OPTIONS ON PATH STACK - add each unvisited to path and push a copy onto the path_stack\n",
    "    * If previous step in path is uppercase, go back one step on path\n"
   ]
  },
  {
   "cell_type": "code",
   "execution_count": 184,
   "metadata": {},
   "outputs": [],
   "source": [
    "import re\n",
    "\n",
    "def get_data(set = 3):\n",
    "    data = open(r\"data\" + str(set) + \".txt\").readlines()\n",
    "    return list(map(str.strip, data))\n",
    "\n",
    "data = get_data()\n",
    "\n",
    "caves = {}\n",
    "\n",
    "for row in data:\n",
    "    s, e = re.split('-', row)\n",
    "    if s in caves.keys():\n",
    "        if e not in caves[s]:\n",
    "            caves[s].append(e)\n",
    "    else:\n",
    "        caves[s] = [e]\n",
    "    if e in caves.keys():\n",
    "        if s not in caves[e]:\n",
    "            caves[e].append(s)\n",
    "    else:\n",
    "        caves[e] = [s]\n",
    "\n",
    "# print(caves)\n"
   ]
  },
  {
   "cell_type": "code",
   "execution_count": 185,
   "metadata": {},
   "outputs": [
    {
     "name": "stdout",
     "output_type": "stream",
     "text": [
      ".........................................\n",
      " There are 3485 paths from start to end. It took 41982 steps.\n"
     ]
    }
   ],
   "source": [
    "\n",
    "def cave_step(cave: str\n",
    "            , path: list[str]\n",
    "            , path_stack: list[list[str]]\n",
    "            , caves: dict[str, list[str]]\n",
    "            , success_paths: set[str]) -> set[str]:\n",
    "    # print(f\"Cave: {cave}, Path = [{','.join(path)}], Path_Stack = [{[','.join(p) for p in path_stack]}]\")\n",
    "\n",
    "    # check if at END cave\n",
    "    # if so, add the path to success_paths and return\n",
    "    if cave == 'end':\n",
    "        success_paths.add(','.join(path))\n",
    "        return path_stack, success_paths\n",
    "\n",
    "    # create list of unvisited caves connected to this one\n",
    "    unvisited: list[str] = [c for c in caves[cave] if c not in filter(lambda p: p != 'end' and p.islower(), path)]\n",
    "\n",
    "    # add the path plus the unvisited caves to the path_stack\n",
    "    for u in unvisited:\n",
    "        path_stack.append(path + [u])\n",
    "\n",
    "    # jump back to the last big cave if available\n",
    "    if len(path) > 2 and path[-2].isupper():\n",
    "        path_stack, success_paths = cave_step(path[-2],path + [path[-2]], path_stack, caves, success_paths)\n",
    "    \n",
    "    return path_stack, success_paths\n",
    "\n",
    "path_stack = []\n",
    "count, max_count = 0, 1e6\n",
    "\n",
    "# start the steps on the start cave\n",
    "path_stack, success_paths = cave_step('start', ['start'], path_stack, caves, set())\n",
    "\n",
    "# while there are items left on the path stack, keep stepping (max count for protection)\n",
    "while path_stack and count < max_count:\n",
    "    count += 1\n",
    "    if not(count % 1000): print('.', end='')\n",
    "    path = path_stack.pop(-1)\n",
    "    path_stack, success_paths = cave_step(path[-1], path, path_stack, caves,success_paths)\n",
    "\n",
    "# print count of success_paths\n",
    "if count >= max_count:\n",
    "    print(\"\\n Max count exceeded.\")\n",
    "else:\n",
    "    print(f\"\\n There are {len(success_paths)} paths from start to end. It took {count} steps.\")\n",
    "\n"
   ]
  },
  {
   "cell_type": "markdown",
   "metadata": {},
   "source": [
    "Specifically, big caves can be visited any number of times, a single small cave can be visited at most twice, and the remaining small caves can be visited at most once. "
   ]
  },
  {
   "cell_type": "code",
   "execution_count": 188,
   "metadata": {},
   "outputs": [
    {
     "name": "stdout",
     "output_type": "stream",
     "text": [
      "\n",
      " There are 85062 paths from start to end. It took 1552551 steps.\n"
     ]
    }
   ],
   "source": [
    "##### PART 2 ##### \n",
    "\n",
    "def cave_step(cave: str\n",
    "            , path: list[str]\n",
    "            , path_stack: list[list[str]]\n",
    "            , caves: dict[str, list[str]]\n",
    "            , success_paths: set[str]) -> set[str]:\n",
    "    # print(f\"Cave: {cave}, Path = [{','.join(path)}], Path_Stack = [{[','.join(p) for p in path_stack]}]\")\n",
    "\n",
    "    # check if at END cave\n",
    "    # if so, add the path to success_paths and return\n",
    "    if cave == 'end':\n",
    "        success_paths.add(','.join(path))\n",
    "        return path_stack, success_paths\n",
    "\n",
    "    # create list of unvisited caves connected to this one\n",
    "\n",
    "    path_counts = {}\n",
    "    for p in filter(lambda p: p.islower() and p not in ['start', 'end'],path):\n",
    "        if p in path_counts.keys():\n",
    "            path_counts[p] += 1\n",
    "        else:\n",
    "            path_counts[p] = 1\n",
    "\n",
    "\n",
    "    if 2 not in path_counts.values():\n",
    "        unvisited = [c for c in caves[cave] if c not in ['start']]\n",
    "    else:\n",
    "        unvisited = [c for c in caves[cave] if c not in filter(lambda p: p != 'end' and p.islower(), path)]\n",
    "\n",
    "    # add the path plus the unvisited caves to the path_stack\n",
    "    for u in unvisited:\n",
    "        path_stack.append(path + [u])\n",
    "\n",
    "    # jump back to the last big cave if available\n",
    "    if len(path) > 2 and path[-2].isupper():\n",
    "        path_stack, success_paths = cave_step(path[-2],path + [path[-2]], path_stack, caves, success_paths)\n",
    "    \n",
    "    return path_stack, success_paths\n",
    "\n",
    "path_stack = []\n",
    "count, max_count = 0, 1e7\n",
    "\n",
    "# start the steps on the start cave\n",
    "path_stack, success_paths = cave_step('start', ['start'], path_stack, caves, set())\n",
    "\n",
    "# while there are items left on the path stack, keep stepping (max count for protection)\n",
    "while path_stack and count < max_count:\n",
    "    count += 1\n",
    "    # if not(count % 1000): print('.', end='')\n",
    "    path = path_stack.pop(-1)\n",
    "    path_stack, success_paths = cave_step(path[-1], path, path_stack, caves,success_paths)\n",
    "\n",
    "\n",
    "# for p in success_paths:\n",
    "#     print(p)\n",
    "\n",
    "# print count of success_paths\n",
    "if count >= max_count:\n",
    "    print(\"\\n Max count exceeded.\")\n",
    "else:\n",
    "    print(f\"\\n There are {len(success_paths)} paths from start to end. It took {count} steps.\")\n",
    "\n"
   ]
  }
 ],
 "metadata": {
  "interpreter": {
   "hash": "d4cc9412d9f82981c0d7a5a497eb4af5e8ce5b3920eca8d37c4bf47eaa6fede4"
  },
  "kernelspec": {
   "display_name": "Python 3.10.1 64-bit (windows store)",
   "language": "python",
   "name": "python3"
  },
  "language_info": {
   "codemirror_mode": {
    "name": "ipython",
    "version": 3
   },
   "file_extension": ".py",
   "mimetype": "text/x-python",
   "name": "python",
   "nbconvert_exporter": "python",
   "pygments_lexer": "ipython3",
   "version": "3.10.1"
  },
  "orig_nbformat": 4
 },
 "nbformat": 4,
 "nbformat_minor": 2
}
