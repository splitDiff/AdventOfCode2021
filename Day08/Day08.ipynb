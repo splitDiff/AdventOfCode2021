{
 "cells": [
  {
   "cell_type": "markdown",
   "metadata": {},
   "source": [
    "In the output values, how many times do digits 1, 4, 7, or 8 appear?"
   ]
  },
  {
   "cell_type": "code",
   "execution_count": 7,
   "metadata": {},
   "outputs": [
    {
     "name": "stdout",
     "output_type": "stream",
     "text": [
      "['dabef caefg gb gfabe', 'gafedc dfcab cd abgcf', 'ebacfg fegdca agceb bafe', 'cfedbag gbf fgcea agdb', 'gecdf fc defcg cgdeab', 'dbcaf cgfdbae dbeg egbdcaf', 'ed dbefac cafbed ed', 'fg bedfgc bdcafg gbfdeac', 'dfcbga efbagc eagcdbf be', 'gcea abcef cefab cbgaf', 'egad eadg ebcgd cbfeda', 'dg aecbfg dg edgc', 'bfgad eb gfaeb aegbcfd', 'dfbea dfgcae ebdfa afbgdc', 'bg bgecdf cbfaged bdfgce', 'cgdfbea adebc bedac cfdgaeb', 'dbfgcea cfgdea fa egcab', 'abgedc bga efdbg adcgbe', 'gba abegc gb gab', 'dgabe gacefd fgbe abedf', 'cfadg edagc gfdeca ae', 'cadgef bgcef gcadbef decab', 'adf fda da edbgaf', 'fgebc ecgfba cbfgde deacg', 'dfabgc bdacgf bacgef gd', 'afgbdc agbfcd aebdf gfedac', 'aegbc gbace acebg caefgd', 'abcdfe dbceg agecbfd fb', 'edgbac edcba ba dfcaeg', 'fd cgefad eafcd dfag', 'afbeg geacbdf cbe afbge', 'bgeafd aefdcbg gda fcdbag', 'ecg cfgedab cdbgae cfgbade', 'aecf ec cdgfeab cafe', 'fbagd fgea gbedcf dgafb', 'gdb fdbe efbd fbeagc', 'degacb fd fdge gedf', 'ecd egcfa fbcdge cd', 'fbdaeg dafbeg gebda gaebfd', 'egdcabf afgbec cabfed dbagcf', 'bcagf aeg feac ae', 'ge bgce edgfcab gadfcb', 'af dcfbg fead bgecafd', 'dacbfe bacdf fcgdb dgab', 'bedfcg gcebd def edcbga', 'gdfaeb bafc gbafd gfdcbe', 'acf cfa acf ca', 'daefcg dgacbe ga cdegfa', 'cdbge becgd afcebd bag', 'dagce bg abg abg', 'cfdbg ged gbcfd ed', 'ecfdag fe fgeac afe', 'gceb fcb beacf cfeba', 'cb bcd gacdbe adbfgec', 'fbega egdbfc bfegcad cdab', 'abe ba aebdfg aeb', 'egadf agdcfb fbea cagdbf', 'gba abegcdf gafe ebgcfa', 'dbcge edcgb aedgbf cebdga', 'gfa eagdfcb abdfc gf', 'dafcg dcfagb ceabg fgdac', 'efbdga fgbda dbfag fecgda', 'cgbde dbeacgf afgcebd dbfc', 'afgdbc afgec bgdfca egfdc', 'gfac afgc cdbef adbcge', 'fcbda bfdaeg bg bfg', 'fdeac fdbg ecdfb ecdbg', 'eabcg abceg bedgf acbeg', 'gac gcbf fcbg cdgaf', 'cd dgc dc dcbaeg', 'fgc agcdbe gcfebd bcfa', 'eg dfcea eacgf gdec', 'dafeg beadg abdfcge efdgbc', 'geafc cbf bf fgaedc', 'ad cda agbfced degbc', 'cafgbde cega bgdcfe cgae', 'gf fcdegab fbgdae gfe', 'gafbecd cgbfae agdbfc gcfab', 'fa bcfaeg bcgead agecb', 'fdbca gc edfbag gc', 'cbeaf cfd gdfabe deacf', 'cgea cfdga gfa fgadeb', 'egabcf afdbcge fcdbe bcfed', 'cfgea cegfa fce dfgea', 'gdbce aed ecafbd bcfda', 'fabedc acgfeb afe dcgfa', 'bdcfgae aefcdg fbedac cdafgb', 'bdegfa dceab fed aedcb', 'fagedbc dfca ebcaf cebfga', 'abec bcgfa feb agcbf', 'afdecb faebgd adfce dabgfe', 'fcbaedg fbegda fcad baecdf', 'cagfb fbd fdb df', 'fdbg dcbga baf dbgf', 'edacbg gceda afe gfdbe', 'dcegf fcgeab bagcdf bcg', 'bgaedf edgfb efdcbg dfgbe', 'dfbcea faedbg gfae fbg', 'cf fgcbea bdefa ecf', 'ecgadf gdfeca ecgdaf edfba', 'gd bdcea badcfe dga', 'be becf bcagdfe ecdfga', 'gedbf dfacegb edgabfc fb', 'eacbf gdeaf bd edbc', 'bcgea acbeg cegba gbeca', 'cefabdg gcfba fdebca bcdfe', 'geca efcgab cdbaf ae', 'cdagb edgbfca ec cgeb', 'dacbf fbcad dbfac cbagf', 'deacg edbcgf fcbgae fbagce', 'cfegb cb cefdg faecgd', 'dfaecg eb gbcadef fdbe', 'db aegcfb abed gebdc', 'gecfadb fecab acdgfe eadcbgf', 'eacgdf acgf aedcg fcead', 'gbaef ecbg gb bdcfag', 'aefgc gcafebd gcafe gbfe', 'efcab bdcgfa bgfe fegadcb', 'bgfecd cebadf gecdafb dfac', 'fg agecb dbcfgae cbdfe', 'dc acd eafdbc afebgc', 'egdf dgabec gfde bcgfa', 'acg cag ecadf fbdaec', 'cbag gfb dbfga fdbag', 'cgbafd aecbdg fbdcg dbefcag', 'fcda gbacf cadf abcdgf', 'afgbde eda cbeagf fegca', 'cdg cg fgebdc gc', 'bcg ecbfd eafbg fgac', 'ecbfa gbf cgaf daebg', 'dgbfc cafdg gfbcd egda', 'fbgda fe befgdc fe', 'gdebf fdag gfad gcabdfe', 'fg bdgce bfcda aefgdb', 'dfbae fgedac ecgadb fecdb', 'bf befagc efbadc cbgeaf', 'fcedb gade fcagbde bafgdec', 'gcaf fc bacdge cfd', 'dgcae cbaegd cgab eabfd', 'gceb ge bcge abdfcge', 'adcbgef fegdacb efa abed', 'febga aebfd fabde bad', 'edac acde dgfbac dbgafc', 'ceabd fcgeb gaef afbedgc', 'gdcbf de baceg ed', 'bca bgadcf gbdea gbeac', 'gfab fdegc fabed cegadb', 'cbeagd dcfbeag beagf gbfecd', 'bfcedag fdgca bgcaef gdf', 'ca dacbef ac dfeacb', 'bgcade dbe bgdfcae edcbaf', 'ecgb cadef cbeg bfgdae', 'beacdf dcae efacb abcgfd', 'cg cabgdf gefc fgce', 'aedfb agdfb gdfbc ag', 'afegdcb gdb ebcdfa cbegda', 'agcdb deg edbfgc bdcgef', 'fdec bacgf agfbc gbdcea', 'efgcd gaefcb cgaefb bgde', 'cdga cagfe da cebfag', 'agdfe cdab bdac agdfe', 'fcdbg fbg cfab fegdc', 'baecgdf edb gbaced ebfcg', 'gdecb gfbecd geafc dfgce', 'da da dgcfa cbgaf', 'agdfb bedgfa gfa agf', 'gcdf daegcb dc fgdae', 'baefgcd dcafbge cdbeg abced', 'cabd fbd fgecadb dacb', 'bacfed afg gdcfab febcad', 'dae dgbe bagcde cbaedfg', 'acgbf afcbdge cagfb fc', 'abdegfc fdcegb dafe bcgdfe', 'ecfba fgab debcgfa bedca', 'degba gbcea gedfb da', 'fea bacfge aegd fcdbag', 'dbeacfg fdcea fadec bfga', 'fd dfe aedfbc bafgcde', 'cedbagf adbg cegfb dbgacef', 'afceb fdagec dgbafc fecba', 'dgebac bcfg bf bcgeadf', 'dfgacb fcbgda bcade cdfagb', 'dcabefg cfagb gfbca fgceba', 'edfgbc bdegc ab ecbfda', 'af agbf ceafb beadc', 'bfcage faed ebadc daef', 'gdbeaf dgec edfbg gfc', 'ab dgebc bedga beagcdf', 'gcabd bdagc bfceagd gfacdb', 'fbe ebdcgfa egfcdab edfcb', 'egfbacd dgcfeab cda cbaged', 'af daf fad fgca', 'bafcedg gcfeda afdgc cfgaed', 'dfacge baed cgfbd ebad', 'cfegd eabcd ag cgdfe', 'becgf gbcafd gd dg', 'dafbgce agcfbe gefdb eacgd', 'gebac dbgef dcg dc', 'ag agfdeb ga fgdaecb', 'gdbafc fd fgd fd']\n",
      "355\n"
     ]
    }
   ],
   "source": [
    "\n",
    "\n",
    "final = 1\n",
    "\n",
    "if not final:\n",
    "    data = open(r\"data0.txt\").readlines()\n",
    "else:\n",
    "    data = open(r\"data1.txt\").readlines()\n",
    "\n",
    "input = []\n",
    "output = []\n",
    "\n",
    "for row in data:\n",
    "    input_item, output_item = row.split('|')\n",
    "    input.append(input_item.strip())\n",
    "    output.append(output_item.strip())\n",
    "\n",
    "print(output)\n",
    "\n",
    "count_digits = 0\n",
    "for o in output:\n",
    "    digits = o.split(' ')\n",
    "    count_digits += sum(map(lambda s: len(s) in [2, 3, 4, 7], digits))\n",
    "\n",
    "print(count_digits)"
   ]
  }
 ],
 "metadata": {
  "interpreter": {
   "hash": "d4cc9412d9f82981c0d7a5a497eb4af5e8ce5b3920eca8d37c4bf47eaa6fede4"
  },
  "kernelspec": {
   "display_name": "Python 3.10.1 64-bit (windows store)",
   "language": "python",
   "name": "python3"
  },
  "language_info": {
   "codemirror_mode": {
    "name": "ipython",
    "version": 3
   },
   "file_extension": ".py",
   "mimetype": "text/x-python",
   "name": "python",
   "nbconvert_exporter": "python",
   "pygments_lexer": "ipython3",
   "version": "3.10.1"
  },
  "orig_nbformat": 4
 },
 "nbformat": 4,
 "nbformat_minor": 2
}
