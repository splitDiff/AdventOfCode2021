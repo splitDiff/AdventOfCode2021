{
 "cells": [
  {
   "cell_type": "markdown",
   "metadata": {},
   "source": [
    "In the output values, how many times do digits 1, 4, 7, or 8 appear?"
   ]
  },
  {
   "cell_type": "code",
   "execution_count": 98,
   "metadata": {},
   "outputs": [
    {
     "name": "stdout",
     "output_type": "stream",
     "text": [
      "355\n"
     ]
    }
   ],
   "source": [
    "\n",
    "\n",
    "final = 1\n",
    "\n",
    "if not final:\n",
    "    data = open(r\"data0.txt\").readlines()\n",
    "else:\n",
    "    data = open(r\"data1.txt\").readlines()\n",
    "\n",
    "input = []\n",
    "output = []\n",
    "\n",
    "for row in data:\n",
    "    input_item, output_item = row.split('|')\n",
    "    input.append(input_item.strip())\n",
    "    output.append(output_item.strip())\n",
    "\n",
    "count_digits = 0\n",
    "for o in output:\n",
    "    digits = o.split(' ')\n",
    "    count_digits += sum(map(lambda s: len(s) in [2, 3, 4, 7], digits))\n",
    "\n",
    "print(count_digits)"
   ]
  },
  {
   "cell_type": "markdown",
   "metadata": {},
   "source": [
    "For each entry, determine all of the wire/segment connections and decode the four-digit output values. What do you get if you add up all of the output values?"
   ]
  },
  {
   "cell_type": "code",
   "execution_count": 115,
   "metadata": {},
   "outputs": [
    {
     "name": "stdout",
     "output_type": "stream",
     "text": [
      "The output number total is 983030\n"
     ]
    }
   ],
   "source": [
    "segments = {key: None for key in 'ABCDEFG'}\n",
    "\n",
    "grand_total = 0\n",
    "\n",
    "# sort the result of the lookups in s\n",
    "def join_sorted(s: dict, elements: str) -> str:\n",
    "    string = ''\n",
    "    for e in elements:\n",
    "        string += s[e]\n",
    "    return ''.join(sorted(string))\n",
    "\n",
    "# for each input row\n",
    "for i, inp in enumerate(input):\n",
    "\n",
    "    # sort the input digits into length buckets\n",
    "    lengths = {}\n",
    "    for c in range(2,8):\n",
    "            lengths[c] = []\n",
    "    digits:list = inp.split(' ')\n",
    "    for digit in digits:\n",
    "        digit = sorted(digit)\n",
    "        lengths[len(digit)].append(digit)\n",
    "\n",
    "\n",
    "    # lengths 2, 3, and 4 will have just one example\n",
    "    s2 = set(lengths[2][0])\n",
    "    s3 = set(lengths[3][0])\n",
    "    s4 = set(lengths[4][0])\n",
    "\n",
    "    # set theory to the rescue\n",
    "    # common = appears in all elements (intersections)\n",
    "    # unique = apears in only one element (union of subtractions)\n",
    "    # twos = appears in only two elements (union minus common minus unique)\n",
    "    s5common = set(lengths[5][0]) & set(lengths[5][1]) & set(lengths[5][2])\n",
    "    s5unique = (set(lengths[5][0]) - set(lengths[5][1]) - set(lengths[5][2])) | (set(lengths[5][1]) - set(lengths[5][0]) - set(lengths[5][2])) | (set(lengths[5][2]) - set(lengths[5][1]) - set(lengths[5][0])) \n",
    "    s6common = set(lengths[6][0]) & set(lengths[6][1]) & set(lengths[6][2])\n",
    "    s6twos = (set(lengths[6][0]) | set(lengths[6][1]) | set(lengths[6][2])) - s6common # there are no s6uniques\n",
    "\n",
    "    # logic the crap out of it\n",
    "    # results are stored as sets with a single element\n",
    "    # keep them as sets to make the math easier\n",
    "\n",
    "    # A is the top of the seven\n",
    "    segments[\"A\"] = s3 - s2\n",
    "\n",
    "    # B is 4 minus 1 minus the common elements of 2, 3, and 5\n",
    "    segments[\"B\"] = s4 - s2 - s5common\n",
    "\n",
    "    # D is 4 minus 1 minus B\n",
    "    segments[\"D\"] = s4 - s2 - segments[\"B\"]\n",
    "\n",
    "    # E is the unique elements of 2, 3, and 5 minus B\n",
    "    segments[\"E\"] = s5unique - segments[\"B\"]\n",
    "\n",
    "    # G is the intersecton of the common elements of (2, 3, 5) and the common elements of (0, 6, 9), minus A\n",
    "    segments[\"G\"] = (s5common & s6common) - segments[\"A\"]\n",
    "\n",
    "    # F is the common elements of (0, 6, 9), minus A, B, and G\n",
    "    segments[\"F\"] = s6common - segments[\"A\"] - segments[\"B\"] - segments[\"G\"]\n",
    "\n",
    "    # C is the twos of (0, 6, 9) minus D and E\n",
    "    segments[\"C\"] = s6twos - segments[\"D\"] - segments[\"E\"]\n",
    "\n",
    "    # pop out of the sets to create a dictionary with just strings  \n",
    "    s = {key:value.pop() for key, value in segments.items()}\n",
    "\n",
    "\n",
    "\n",
    "    # build the sorted digit patterns into a dictionary\n",
    "    digit_patterns = {        \n",
    "        join_sorted(s, 'ABCEFG'): '0',\n",
    "        join_sorted(s, 'CF') : '1',\n",
    "        join_sorted(s, 'ACDEG'): '2',\n",
    "        join_sorted(s, 'ACDFG'): '3',\n",
    "        join_sorted(s, 'BCDF') : '4',\n",
    "        join_sorted(s, 'ABDFG'): '5',\n",
    "        join_sorted(s, 'ABDEFG'): '6',\n",
    "        join_sorted(s, 'ACF'): '7',\n",
    "        join_sorted(s, 'ABCDEFG'): '8',\n",
    "        join_sorted(s, 'ABCDFG'): '9'\n",
    "    }\n",
    "\n",
    "    # sort the output strings and look them up\n",
    "    output_number = []\n",
    "    for o in output[i].split(' '):\n",
    "        output_number.append(digit_patterns[''.join(sorted(o))])\n",
    "    \n",
    "    # make it an int and add to the grand total\n",
    "    grand_total += int(''.join(output_number))\n",
    "\n",
    "\n",
    "print(f\"The output number total is {grand_total}\")\n",
    "\n"
   ]
  }
 ],
 "metadata": {
  "interpreter": {
   "hash": "d4cc9412d9f82981c0d7a5a497eb4af5e8ce5b3920eca8d37c4bf47eaa6fede4"
  },
  "kernelspec": {
   "display_name": "Python 3.10.1 64-bit (windows store)",
   "language": "python",
   "name": "python3"
  },
  "language_info": {
   "codemirror_mode": {
    "name": "ipython",
    "version": 3
   },
   "file_extension": ".py",
   "mimetype": "text/x-python",
   "name": "python",
   "nbconvert_exporter": "python",
   "pygments_lexer": "ipython3",
   "version": "3.10.1"
  },
  "orig_nbformat": 4
 },
 "nbformat": 4,
 "nbformat_minor": 2
}
