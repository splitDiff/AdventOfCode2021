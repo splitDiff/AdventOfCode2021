{
 "cells": [
  {
   "cell_type": "markdown",
   "metadata": {},
   "source": [
    "How many paths through this cave system are there that visit small caves at most once?"
   ]
  },
  {
   "cell_type": "code",
   "execution_count": 62,
   "metadata": {},
   "outputs": [],
   "source": [
    "import re\n",
    "from copy import deepcopy\n",
    "\n",
    "def get_data(set = 0):\n",
    "    data = open(r\"data\" + str(set) + \".txt\").readlines()\n",
    "    return list(map(str.strip, data))\n",
    "\n",
    "\n",
    "def print_grid(points):\n",
    "    max_x = max([p[0] for p in points])\n",
    "    max_y = max([p[1] for p in points])\n",
    "\n",
    "    grid = [[' '] * (max_x + 1) for y in range(max_y + 1)]\n",
    "\n",
    "    for p in points:\n",
    "        grid[p[1]][p[0]] = '#'\n",
    "\n",
    "    for row in grid:\n",
    "        print(''.join(row))\n",
    "    print()\n",
    "\n"
   ]
  },
  {
   "cell_type": "code",
   "execution_count": 63,
   "metadata": {},
   "outputs": [
    {
     "name": "stdout",
     "output_type": "stream",
     "text": [
      "The number of remaining points is 712\n"
     ]
    }
   ],
   "source": [
    "### Part 1 ###\n",
    "\n",
    "data_set = 1\n",
    "\n",
    "points = []\n",
    "folds = []\n",
    "fold_section = False\n",
    "\n",
    "# parse data\n",
    "for row in get_data(data_set):\n",
    "    # if point, add to points\n",
    "    if m:= re.match('(\\d+),(\\d+)', row):\n",
    "        points.append(tuple(map(int,[m[1], int(m[2])])))\n",
    "\n",
    "    # if fold instruction, add to folds\n",
    "    if m := re.match('^fold along (x|y)=(\\d+)$', row):\n",
    "        folds.append([m[1], int(m[2])])\n",
    "\n",
    "# use a set to eliminate duplcates\n",
    "final_points = set()\n",
    "\n",
    "folds_direction = folds[0][0]\n",
    "folds_value = folds[0][1]\n",
    "\n",
    "# iterate over the points\n",
    "for p in points:\n",
    "    if folds_direction == 'x':\n",
    "        # if the point is past the fold, flip it over the fold with (2*f - xvalue)\n",
    "        if p[0] > folds_value:\n",
    "            final_points.add((2*folds_value - p[0], p[1]))\n",
    "        else:\n",
    "            final_points.add(p)\n",
    "    if folds_direction == 'y':\n",
    "        # same for y\n",
    "        if p[1] > folds_value:\n",
    "            final_points.add((p[0], 2*folds_value - p[1]))\n",
    "        else:\n",
    "            final_points.add(p)\n",
    "\n",
    "print(f\"The number of remaining points is {len(final_points)}\")\n"
   ]
  },
  {
   "cell_type": "code",
   "execution_count": 64,
   "metadata": {},
   "outputs": [
    {
     "name": "stdout",
     "output_type": "stream",
     "text": [
      "###  #    #  # ####   ## ###    ## ####\n",
      "#  # #    #  # #       # #  #    # #   \n",
      "###  #    #### ###     # #  #    # ### \n",
      "#  # #    #  # #       # ###     # #   \n",
      "#  # #    #  # #    #  # #    #  # #   \n",
      "###  #### #  # #     ##  #     ##  #   \n",
      "\n"
     ]
    }
   ],
   "source": [
    "### Part 2 ###\n",
    "\n",
    "data_set = 1\n",
    "\n",
    "points = []\n",
    "folds = []\n",
    "fold_section = False\n",
    "\n",
    "# parse data\n",
    "for row in get_data(data_set):\n",
    "    # if point, add to points\n",
    "    if m:= re.match('(\\d+),(\\d+)', row):\n",
    "        points.append(tuple(map(int,[m[1], int(m[2])])))\n",
    "\n",
    "    # if fold instruction, add to folds\n",
    "    if m := re.match('^fold along (x|y)=(\\d+)$', row):\n",
    "        folds.append([m[1], int(m[2])])\n",
    "\n",
    "# use a set to eliminate duplcates\n",
    "final_points = set(points)\n",
    "\n",
    "for f in folds:\n",
    "    folds_direction = f[0]\n",
    "    folds_value = f[1]\n",
    "    \n",
    "    points, final_points = deepcopy(final_points), set()\n",
    "\n",
    "    # iterate over the points\n",
    "    for p in points:\n",
    "        if folds_direction == 'x':\n",
    "            # if the point is past the fold, flip it over the fold with (2*f - xvalue)\n",
    "            if p[0] > folds_value:\n",
    "                final_points.add((2*folds_value - p[0], p[1]))\n",
    "            else:\n",
    "                final_points.add(p)\n",
    "        if folds_direction == 'y':\n",
    "            # same for y\n",
    "            if p[1] > folds_value:\n",
    "                final_points.add((p[0], 2*folds_value - p[1]))\n",
    "            else:\n",
    "                final_points.add(p)\n",
    "\n",
    "\n",
    "print_grid(final_points)\n"
   ]
  },
  {
   "cell_type": "code",
   "execution_count": null,
   "metadata": {},
   "outputs": [],
   "source": []
  }
 ],
 "metadata": {
  "interpreter": {
   "hash": "d4cc9412d9f82981c0d7a5a497eb4af5e8ce5b3920eca8d37c4bf47eaa6fede4"
  },
  "kernelspec": {
   "display_name": "Python 3.10.1 64-bit (windows store)",
   "language": "python",
   "name": "python3"
  },
  "language_info": {
   "codemirror_mode": {
    "name": "ipython",
    "version": 3
   },
   "file_extension": ".py",
   "mimetype": "text/x-python",
   "name": "python",
   "nbconvert_exporter": "python",
   "pygments_lexer": "ipython3",
   "version": "3.10.1"
  },
  "orig_nbformat": 4
 },
 "nbformat": 4,
 "nbformat_minor": 2
}
