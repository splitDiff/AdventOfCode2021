{
 "cells": [
  {
   "cell_type": "markdown",
   "metadata": {},
   "source": [
    "Find the first illegal character in each corrupted line of the navigation subsystem. What is the total syntax error score for those errors?"
   ]
  },
  {
   "cell_type": "code",
   "execution_count": 21,
   "metadata": {},
   "outputs": [
    {
     "name": "stdout",
     "output_type": "stream",
     "text": [
      "Total score is 392043\n"
     ]
    }
   ],
   "source": [
    "final = 1\n",
    "\n",
    "if not final:\n",
    "    data = open(r\"data0.txt\").readlines()\n",
    "else:\n",
    "    data = open(r\"data1.txt\").readlines()\n",
    "\n",
    "data = list(map(str.strip, data))\n",
    "\n",
    "class state():\n",
    "    count: int = 0\n",
    "    good:bool = True\n",
    "    def __init__(self) -> None:\n",
    "        self.opens:str = '([<{'\n",
    "        self.match:dict = {')':'(', '>':'<', '}':'{', ']':'[', '(':')', '<':'>', '{':'}', '[':']'}\n",
    "        self.last:str = ''\n",
    "        self.stack:list = []\n",
    "    def valid(self, char):\n",
    "        self.count += 1    \n",
    "        if char in self.opens:\n",
    "            self.stack.append(char)\n",
    "            self.last = char\n",
    "            return True\n",
    "        elif self.match[char] == self.last:\n",
    "            self.stack.pop(-1)\n",
    "            if len(self.stack) > 0:\n",
    "                self.last = self.stack[-1]\n",
    "            return True\n",
    "        self.good = False\n",
    "        return False\n",
    "\n",
    "\n",
    "\n",
    "scores = {')': 3, '>': 25137 , ']': 57, '}':1197}\n",
    "\n",
    "total_score = 0\n",
    "\n",
    "incomplete_stacks:list = []\n",
    "\n",
    "for line in data:\n",
    "    s = state()\n",
    "    for c in line:\n",
    "        if s.valid(c):\n",
    "            continue\n",
    "        # print(f\"{line} - Character {c} in position {s.count} is not valid\")\n",
    "        total_score += scores[c]\n",
    "        break\n",
    "    if s.good:\n",
    "        incomplete_stacks.append(s.stack)\n",
    "        # print(f\"{line} - The line is valid. Stack is {''.join(s.stack)}\")\n",
    "\n",
    "print(f\"Total score is {total_score}\")"
   ]
  },
  {
   "cell_type": "markdown",
   "metadata": {},
   "source": [
    "Find the completion string for each incomplete line, score the completion strings, and sort the scores. What is the middle score?"
   ]
  },
  {
   "cell_type": "code",
   "execution_count": 22,
   "metadata": {},
   "outputs": [
    {
     "name": "stdout",
     "output_type": "stream",
     "text": [
      "The middle incomplete stack completion score is 1605968119\n"
     ]
    }
   ],
   "source": [
    "# print([''.join(s) for s in incomplete_stacks])\n",
    "\n",
    "scores = {')': 1, ']': 2, '}': 3, '>': 4} \n",
    "match:dict = {'(':')', '<':'>', '{':'}', '[':']'}\n",
    "\n",
    "incomplete_stack_scores:list = []\n",
    "\n",
    "for s in incomplete_stacks:\n",
    "    score = 0\n",
    "    for c in s[::-1]:\n",
    "        score = score * 5 + scores[match[c]]\n",
    "    incomplete_stack_scores.append(score)\n",
    "\n",
    "# print(sorted(incomplete_stack_scores))\n",
    "print(f\"The middle incomplete stack completion score is {sorted(incomplete_stack_scores)[len(incomplete_stack_scores)//2]}\")\n",
    "\n"
   ]
  }
 ],
 "metadata": {
  "interpreter": {
   "hash": "d4cc9412d9f82981c0d7a5a497eb4af5e8ce5b3920eca8d37c4bf47eaa6fede4"
  },
  "kernelspec": {
   "display_name": "Python 3.10.1 64-bit (windows store)",
   "language": "python",
   "name": "python3"
  },
  "language_info": {
   "codemirror_mode": {
    "name": "ipython",
    "version": 3
   },
   "file_extension": ".py",
   "mimetype": "text/x-python",
   "name": "python",
   "nbconvert_exporter": "python",
   "pygments_lexer": "ipython3",
   "version": "3.10.1"
  },
  "orig_nbformat": 4
 },
 "nbformat": 4,
 "nbformat_minor": 2
}
