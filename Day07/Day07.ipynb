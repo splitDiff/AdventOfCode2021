{
 "cells": [
  {
   "cell_type": "markdown",
   "metadata": {},
   "source": [
    "Find a way to simulate lanternfish. How many lanternfish would there be after 80 days?"
   ]
  },
  {
   "cell_type": "code",
   "execution_count": 30,
   "metadata": {},
   "outputs": [
    {
     "name": "stdout",
     "output_type": "stream",
     "text": [
      "Target is 317, total fuel cost is 331067\n"
     ]
    }
   ],
   "source": [
    "from statistics import median\n",
    "\n",
    "final = 1\n",
    "\n",
    "if not final:\n",
    "    data = open(r\"data0.txt\").readlines()\n",
    "else:\n",
    "    data = open(r\"data1.txt\").readlines()\n",
    "\n",
    "positions = list(map(int,data[0].split(',')))\n",
    "\n",
    "target = int(median(positions))\n",
    "\n",
    "total_cost = sum(list(map(lambda p: abs(target - p), positions)))\n",
    "\n",
    "print(f\"Target is {target}, total fuel cost is {total_cost}\")"
   ]
  },
  {
   "cell_type": "code",
   "execution_count": 34,
   "metadata": {},
   "outputs": [
    {
     "name": "stdout",
     "output_type": "stream",
     "text": [
      "381 102897678 64\n",
      "445 95885425 64\n",
      "445 92972084 32\n",
      "445 92972084 16\n",
      "461 92972084 16\n",
      "461 92884161 8\n",
      "461 92884161 4\n",
      "457 92884161 4\n",
      "457 92882118 2\n",
      "459 92882118 2\n",
      "459 92881138 1\n",
      "458 92881138 1\n",
      "458 92881128\n",
      "Target is 458, total fuel cost is 92881128\n"
     ]
    }
   ],
   "source": [
    "\n",
    "\n",
    "def calc_total_cost(target: int, positions: list) -> int:\n",
    "    # Uses the formula for calculating triangular numbers\n",
    "    return int(sum(list(map(lambda p: 0.5*(abs(target - p))*(abs(target - p) + 1), positions))))\n",
    "\n",
    "target = int(median(positions)) # arbitrary starting point\n",
    "step = 64 # start big\n",
    "\n",
    "for v in range(500): # arbitrary count - lets me avoid runaway while loops\n",
    "    total_cost = calc_total_cost(target, positions)\n",
    "    total_cost_down = calc_total_cost(target - step, positions)\n",
    "    total_cost_up = calc_total_cost(target + step, positions)\n",
    "\n",
    "    if total_cost_down < total_cost:\n",
    "        target = target - step\n",
    "    elif total_cost_up < total_cost:\n",
    "        target = target + step\n",
    "    elif step > 1:\n",
    "        step = step // 2\n",
    "    else:\n",
    "        break\n",
    "    print(target, total_cost, step)\n",
    "\n",
    "print(target, total_cost)\n",
    "\n",
    "total_cost = int(sum(list(map(lambda p: 0.5*(abs(target - p))*(abs(target - p) + 1), positions))))\n",
    "\n",
    "print(f\"Target is {target}, total fuel cost is {total_cost}\")"
   ]
  }
 ],
 "metadata": {
  "interpreter": {
   "hash": "d4cc9412d9f82981c0d7a5a497eb4af5e8ce5b3920eca8d37c4bf47eaa6fede4"
  },
  "kernelspec": {
   "display_name": "Python 3.10.1 64-bit (windows store)",
   "language": "python",
   "name": "python3"
  },
  "language_info": {
   "codemirror_mode": {
    "name": "ipython",
    "version": 3
   },
   "file_extension": ".py",
   "mimetype": "text/x-python",
   "name": "python",
   "nbconvert_exporter": "python",
   "pygments_lexer": "ipython3",
   "version": "3.10.1"
  },
  "orig_nbformat": 4
 },
 "nbformat": 4,
 "nbformat_minor": 2
}
