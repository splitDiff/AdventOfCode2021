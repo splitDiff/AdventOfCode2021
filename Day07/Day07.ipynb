{
 "cells": [
  {
   "cell_type": "markdown",
   "metadata": {},
   "source": [
    "Determine the horizontal position that the crabs can align to using the least fuel possible. How much fuel must they spend to align to that position?"
   ]
  },
  {
   "cell_type": "code",
   "execution_count": 58,
   "metadata": {},
   "outputs": [
    {
     "name": "stdout",
     "output_type": "stream",
     "text": [
      "Target is 317, total fuel cost is 331067\n"
     ]
    }
   ],
   "source": [
    "from statistics import median\n",
    "from matplotlib import pyplot, colors\n",
    "\n",
    "final = 1\n",
    "\n",
    "if not final:\n",
    "    data = open(r\"data0.txt\").readlines()\n",
    "else:\n",
    "    data = open(r\"data1.txt\").readlines()\n",
    "\n",
    "positions = list(map(int,data[0].split(',')))\n",
    "\n",
    "target = int(median(positions))\n",
    "\n",
    "total_cost = sum(list(map(lambda p: abs(target - p), positions)))\n",
    "\n",
    "print(f\"Target is {target}, total fuel cost is {total_cost}\")"
   ]
  },
  {
   "cell_type": "markdown",
   "metadata": {},
   "source": [
    "Determine the horizontal position that the crabs can align to using the least fuel possible so they can make you an escape route! How much fuel must they spend to align to that position?"
   ]
  },
  {
   "cell_type": "code",
   "execution_count": 59,
   "metadata": {},
   "outputs": [
    {
     "name": "stdout",
     "output_type": "stream",
     "text": [
      "458 92881128\n",
      "Target is 458, total fuel cost is 92881128\n"
     ]
    },
    {
     "data": {
      "text/plain": [
       "[<matplotlib.lines.Line2D at 0x18436b9ed40>]"
      ]
     },
     "execution_count": 59,
     "metadata": {},
     "output_type": "execute_result"
    },
    {
     "data": {
      "image/png": "[encoded data removed]",
      "text/plain": [
       "<Figure size 432x288 with 1 Axes>"
      ]
     },
     "metadata": {
      "needs_background": "light"
     },
     "output_type": "display_data"
    }
   ],
   "source": [
    "\n",
    "\n",
    "def calc_total_cost(target: int, positions: list) -> int:\n",
    "    # Uses the formula for calculating triangular numbers\n",
    "    return int(sum(list(map(lambda p: 0.5*(abs(target - p))*(abs(target - p) + 1), positions))))\n",
    "\n",
    "target = int(median(positions)) # arbitrary starting point\n",
    "step = 64 # start big\n",
    "\n",
    "plot_data_x = []\n",
    "plot_data_y = []\n",
    "\n",
    "for v in range(500): # arbitrary count - lets me avoid runaway while loops\n",
    "    total_cost = calc_total_cost(target, positions)\n",
    "    total_cost_down = calc_total_cost(target - step, positions)\n",
    "    total_cost_up = calc_total_cost(target + step, positions)\n",
    "\n",
    "    plot_data_x.extend([target, target - step, target + step])\n",
    "    plot_data_y.extend([total_cost, total_cost_down, total_cost_up])\n",
    "\n",
    "    if total_cost_down < total_cost:\n",
    "        target = target - step\n",
    "    elif total_cost_up < total_cost:\n",
    "        target = target + step\n",
    "    elif step > 1:\n",
    "        step = step // 2\n",
    "    else:\n",
    "        break\n",
    "    # print(target, total_cost, step)\n",
    "\n",
    "print(target, total_cost)\n",
    "\n",
    "total_cost = int(sum(list(map(lambda p: 0.5*(abs(target - p))*(abs(target - p) + 1), positions))))\n",
    "\n",
    "print(f\"Target is {target}, total fuel cost is {total_cost}\")\n",
    "\n",
    "pyplot.plot(plot_data_x, plot_data_y, 'g.',)"
   ]
  }
 ],
 "metadata": {
  "interpreter": {
   "hash": "d4cc9412d9f82981c0d7a5a497eb4af5e8ce5b3920eca8d37c4bf47eaa6fede4"
  },
  "kernelspec": {
   "display_name": "Python 3.10.1 64-bit (windows store)",
   "language": "python",
   "name": "python3"
  },
  "language_info": {
   "codemirror_mode": {
    "name": "ipython",
    "version": 3
   },
   "file_extension": ".py",
   "mimetype": "text/x-python",
   "name": "python",
   "nbconvert_exporter": "python",
   "pygments_lexer": "ipython3",
   "version": "3.10.1"
  },
  "orig_nbformat": 4
 },
 "nbformat": 4,
 "nbformat_minor": 2
}
