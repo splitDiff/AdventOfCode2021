{
 "cells": [
  {
   "cell_type": "code",
   "execution_count": 84,
   "metadata": {},
   "outputs": [
    {
     "name": "stdout",
     "output_type": "stream",
     "text": [
      "The sum of the risk levels is 575\n"
     ]
    }
   ],
   "source": [
    "import numpy as np\n",
    "\n",
    "final = 1\n",
    "\n",
    "if not final:\n",
    "    data = open(r\"data0.txt\").readlines()\n",
    "else:\n",
    "    data = open(r\"data1.txt\").readlines()\n",
    "\n",
    "field = np.array([list(row.strip()) for row in data])\n",
    "\n",
    "low_points = []\n",
    "low_coords = []\n",
    "\n",
    "max_y, max_x = field.shape\n",
    "\n",
    "for y in range(0,max_y):\n",
    "    for x in range(0, max_x):\n",
    "        directions = [[-1,0], [0,1], [1,0], [0,-1]]\n",
    "\n",
    "        if x==0: directions.remove([0,-1])\n",
    "        if y==0: directions.remove([-1,0])\n",
    "        if x==max_x - 1: directions.remove([0,1])\n",
    "        if y==max_y - 1: directions.remove([1,0])\n",
    "\n",
    "        low = True\n",
    "        for d in directions:\n",
    "            if field[y,x] >= field[y + d[0], x + d[1]]:\n",
    "                low = False\n",
    "        \n",
    "        if low:\n",
    "            low_points.append(field[y,x])\n",
    "            low_coords.append([x,y])\n",
    "\n",
    "print(f\"The sum of the risk levels is {sum(map(lambda p: int(p) + 1, low_points))}\")\n",
    "\n"
   ]
  }
 ],
 "metadata": {
  "interpreter": {
   "hash": "d4cc9412d9f82981c0d7a5a497eb4af5e8ce5b3920eca8d37c4bf47eaa6fede4"
  },
  "kernelspec": {
   "display_name": "Python 3.10.1 64-bit (windows store)",
   "language": "python",
   "name": "python3"
  },
  "language_info": {
   "codemirror_mode": {
    "name": "ipython",
    "version": 3
   },
   "file_extension": ".py",
   "mimetype": "text/x-python",
   "name": "python",
   "nbconvert_exporter": "python",
   "pygments_lexer": "ipython3",
   "version": "3.10.1"
  },
  "orig_nbformat": 4
 },
 "nbformat": 4,
 "nbformat_minor": 2
}
