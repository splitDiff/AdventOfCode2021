{
 "cells": [
  {
   "cell_type": "code",
   "execution_count": 46,
   "metadata": {},
   "outputs": [],
   "source": [
    "import re\n",
    "from copy import deepcopy\n",
    "\n",
    "def get_data(set = 0):\n",
    "    data = open(r\"data\" + str(set) + \".txt\").readlines()\n",
    "    return list(map(str.strip, data))\n"
   ]
  },
  {
   "cell_type": "markdown",
   "metadata": {},
   "source": [
    "PART 1 - Apply 10 steps of pair insertion to the polymer template and find the most and least common elements in the result. What do you get if you take the quantity of the most common element and subtract the quantity of the least common element?\n",
    "\n",
    "PART 2 - Apply 40 steps of pair insertion to the polymer template and find the most and least common elements in the result. What do you get if you take the quantity of the most common element and subtract the quantity of the least common element?"
   ]
  },
  {
   "cell_type": "code",
   "execution_count": 49,
   "metadata": {},
   "outputs": [
    {
     "name": "stdout",
     "output_type": "stream",
     "text": [
      "Starting Sequence: HHKONSOSONSVOFCSCNBC\n",
      "PART 1 - The count of the most common element minus the count of the least common element is 2657.\n",
      "PART 2 - The count of the most common element minus the count of the least common element is 2911561572630.\n"
     ]
    }
   ],
   "source": [
    "### Part 1 and Part 2 ###\n",
    "\n",
    "data_set = 1\n",
    "\n",
    "starting_sequence = []\n",
    "rules = {}\n",
    "\n",
    "# parse data\n",
    "for row in get_data(data_set):\n",
    "    if m:= re.match('^[A-Z]+$', row):\n",
    "        starting_sequence = [e for e in m[0]]\n",
    "\n",
    "    if m := re.match('^([A-Z]{2}) -> ([A-Z])$', row):\n",
    "        rules[m[1]] = m[2]\n",
    "\n",
    "\n",
    "# rules_map dictionary stores the result of one sustitution in gene terms\n",
    "# one step of CH gene results in one CB and one BH gene\n",
    "rules_map = {}\n",
    "for k in rules.keys():\n",
    "    result1 = k[0] + rules[k]\n",
    "    result2 = rules[k] +k[1]\n",
    "    rules_map[k] = {result1:1, result2:1}\n",
    "\n",
    "# where the magic happens\n",
    "def polymer_steps(max_steps, rules, starting_sequence):\n",
    "\n",
    "    # zero out our results dictionaries\n",
    "    calculated_element_count = {v:0 for v in rules.values()}\n",
    "    gene_counts = next_gene_counts = {k:0 for k in rules.keys()}\n",
    "\n",
    "    # starting conditions\n",
    "\n",
    "    # genes in the starting sequence\n",
    "    for i, g in enumerate(starting_sequence):\n",
    "        # stop just before the last element\n",
    "        if i == len(starting_sequence) - 1: break\n",
    "        gene_counts[starting_sequence[i] + starting_sequence[i+1]] += 1\n",
    "\n",
    "    # elements in the starting sequence\n",
    "    for e in starting_sequence:\n",
    "        calculated_element_count[e] += 1\n",
    "\n",
    "    # polymerize for max_steps\n",
    "    for step in range(max_steps):\n",
    "\n",
    "        # clear next gene counts\n",
    "        next_gene_counts = {k:0 for k in rules.keys()}\n",
    "\n",
    "        # for each gene\n",
    "        for g in gene_counts.keys():\n",
    "\n",
    "            # for each rule map result for each gene\n",
    "            for h in rules_map[g].keys():\n",
    "\n",
    "                # count of each parent gene add to child genes\n",
    "                next_gene_counts[h] += gene_counts[g]\n",
    "\n",
    "            # each parent gene adds one element count to the total\n",
    "            calculated_element_count[rules[g]] += gene_counts[g]\n",
    "\n",
    "        # reset gene counts for the next step\n",
    "        gene_counts = deepcopy(next_gene_counts)\n",
    "\n",
    "    # return the results dictionaries\n",
    "    return gene_counts, calculated_element_count\n",
    "\n",
    "print(f\"Starting Sequence: {''.join(starting_sequence)}\")\n",
    "\n",
    "part_1_steps = 10\n",
    "\n",
    "gene_counts, calculated_element_count = polymer_steps(part_1_steps, rules, starting_sequence)\n",
    "\n",
    "print(f\"PART 1 - The count of the most common element minus the count \"\n",
    "    + f\"of the least common element is \" + \n",
    "    f\"{max(calculated_element_count.values()) - min(calculated_element_count.values())}.\")\n",
    "\n",
    "\n",
    "part_2_steps = 40\n",
    "\n",
    "gene_counts, calculated_element_count = polymer_steps(part_2_steps, rules, starting_sequence)\n",
    "\n",
    "print(f\"PART 2 - The count of the most common element minus the count \"\n",
    "    + f\"of the least common element is \" + \n",
    "    f\"{max(calculated_element_count.values()) - min(calculated_element_count.values())}.\")\n",
    "\n"
   ]
  }
 ],
 "metadata": {
  "interpreter": {
   "hash": "d4cc9412d9f82981c0d7a5a497eb4af5e8ce5b3920eca8d37c4bf47eaa6fede4"
  },
  "kernelspec": {
   "display_name": "Python 3.10.1 64-bit (windows store)",
   "language": "python",
   "name": "python3"
  },
  "language_info": {
   "codemirror_mode": {
    "name": "ipython",
    "version": 3
   },
   "file_extension": ".py",
   "mimetype": "text/x-python",
   "name": "python",
   "nbconvert_exporter": "python",
   "pygments_lexer": "ipython3",
   "version": "3.10.1"
  },
  "orig_nbformat": 4
 },
 "nbformat": 4,
 "nbformat_minor": 2
}
