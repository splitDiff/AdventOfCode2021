{
 "cells": [
  {
   "cell_type": "markdown",
   "metadata": {},
   "source": [
    "Calculate the horizontal position and depth you would have after following the planned course. What do you get if you multiply your final horizontal position by your final depth?"
   ]
  },
  {
   "cell_type": "code",
   "execution_count": 8,
   "metadata": {},
   "outputs": [
    {
     "name": "stdout",
     "output_type": "stream",
     "text": [
      "Forward 1967 and Down 1031 for a result of 2027977\n"
     ]
    }
   ],
   "source": [
    "data = open(r\"data1.txt\").readlines()\n",
    "#data = open(r\"data0.txt\").readlines()\n",
    "\n",
    "data = list(map(lambda s: s.split(\" \"), data))\n",
    "data = list(map(lambda m: [m[0], int(m[1])], data))\n",
    "\n",
    "x, y = 0, 0\n",
    "\n",
    "for move, dist in data:\n",
    "    if move == \"forward\":\n",
    "        x += dist\n",
    "    if move == \"down\":\n",
    "        y += dist\n",
    "    if move == \"up\":\n",
    "        y -= dist\n",
    "\n",
    "print(f\"Forward {x} and Down {y} for a result of {x*y}\")\n",
    "        "
   ]
  },
  {
   "cell_type": "markdown",
   "metadata": {},
   "source": [
    "Using this new interpretation of the commands, calculate the horizontal position and depth you would have after following the planned course. What do you get if you multiply your final horizontal position by your final depth?"
   ]
  },
  {
   "cell_type": "code",
   "execution_count": 11,
   "metadata": {},
   "outputs": [
    {
     "name": "stdout",
     "output_type": "stream",
     "text": [
      "Forward 1967 and Down 967791 for a result of 1903644897\n"
     ]
    }
   ],
   "source": [
    "data = open(r\"data1.txt\").readlines()\n",
    "# data = open(r\"data0.txt\").readlines()\n",
    "\n",
    "data = list(map(lambda s: s.split(\" \"), data))\n",
    "data = list(map(lambda m: [m[0], int(m[1])], data))\n",
    "\n",
    "aim, x, y = 0, 0, 0\n",
    "\n",
    "for move, dist in data:\n",
    "    if move == \"forward\":\n",
    "        x += dist\n",
    "        y += aim * dist\n",
    "    if move == \"down\":\n",
    "        aim += dist\n",
    "    if move == \"up\":\n",
    "        aim -= dist\n",
    "\n",
    "print(f\"Forward {x} and Down {y} for a result of {x*y}\")\n",
    "        "
   ]
  }
 ],
 "metadata": {
  "interpreter": {
   "hash": "d4cc9412d9f82981c0d7a5a497eb4af5e8ce5b3920eca8d37c4bf47eaa6fede4"
  },
  "kernelspec": {
   "display_name": "Python 3.10.0 64-bit (windows store)",
   "language": "python",
   "name": "python3"
  },
  "language_info": {
   "codemirror_mode": {
    "name": "ipython",
    "version": 3
   },
   "file_extension": ".py",
   "mimetype": "text/x-python",
   "name": "python",
   "nbconvert_exporter": "python",
   "pygments_lexer": "ipython3",
   "version": "3.10.0"
  },
  "orig_nbformat": 4
 },
 "nbformat": 4,
 "nbformat_minor": 2
}
