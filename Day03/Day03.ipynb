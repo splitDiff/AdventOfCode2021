{
 "cells": [
  {
   "cell_type": "markdown",
   "metadata": {},
   "source": []
  },
  {
   "cell_type": "code",
   "execution_count": 22,
   "metadata": {},
   "outputs": [
    {
     "name": "stdout",
     "output_type": "stream",
     "text": [
      "gamma is 22, epsilon is 9, and the product is 198\n"
     ]
    }
   ],
   "source": [
    "def calc_gamma_epsilon(data):\n",
    "    results = {}\n",
    "\n",
    "    for row in data:\n",
    "        for i,digit in enumerate(row):\n",
    "            results[i] = results.get(i,0) + int(digit)\n",
    "\n",
    "    gamma = []\n",
    "    epsilon = []\n",
    "\n",
    "    for i, count in results.items():\n",
    "        if count >= (len(data)/2): # more 1s\n",
    "            gamma.append(\"1\")\n",
    "            epsilon.append(\"0\")\n",
    "        else: # more 0s\n",
    "            gamma.append(\"0\")\n",
    "            epsilon.append(\"1\")\n",
    "\n",
    "    gamma_dec = int(\"\".join(gamma),2)\n",
    "    epsilon_dec = int(\"\".join(epsilon),2)\n",
    "\n",
    "    return gamma_dec, epsilon_dec\n",
    "\n",
    "\n",
    "# data = open(r\"data1.txt\").readlines()\n",
    "data = open(r\"data0.txt\").readlines()\n",
    "\n",
    "data = list(map(str.strip, data))\n",
    "\n",
    "data_len = len(data[0])\n",
    "\n",
    "gamma_dec, epsilon_dec = calc_gamma_epsilon(data)\n",
    "\n",
    "print(f\"gamma is {gamma_dec}, epsilon is {epsilon_dec}, and the product is {gamma_dec * epsilon_dec}\")"
   ]
  },
  {
   "cell_type": "markdown",
   "metadata": {},
   "source": [
    "\n"
   ]
  },
  {
   "cell_type": "code",
   "execution_count": 23,
   "metadata": {},
   "outputs": [
    {
     "name": "stdout",
     "output_type": "stream",
     "text": [
      "10111 01000\n",
      "1 10110 01001 ['11110', '10110', '10111', '10101', '11100', '10000', '11001']\n",
      "2 10100 01011 ['10110', '10111', '10101', '10000']\n",
      "3 10111 01000 ['10110', '10111', '10101']\n",
      "4 10111 01000 ['10110', '10111']\n",
      "5 10111 01000 ['10111']\n",
      "6 10110 01001 []\n"
     ]
    }
   ],
   "source": [
    "\n",
    "def stringify(ge_tuple):\n",
    "\n",
    "    gamma_str = f\"{ge_tuple[0]:b}\".zfill(data_len)\n",
    "    epsilon_str = f\"{ge_tuple[1]:b}\".zfill(data_len)\n",
    "    return gamma_str, epsilon_str\n",
    "\n",
    "print(gamma_str, epsilon_str)\n",
    "\n",
    "digit = 0\n",
    "\n",
    "data_copy = data\n",
    "while (len(data_copy) > 1):\n",
    "    digit += 1\n",
    "    gamma_str, epsilon_str = stringify(calc_gamma_epsilon(data_copy))\n",
    "    data_copy = list(filter(lambda m: gamma_str[0:digit] == m[0:digit], data_copy))\n",
    "    print(digit, gamma_str, epsilon_str, data_copy)\n",
    "    \n",
    "data_copy = data\n",
    "while (len(data_copy) > 1):\n",
    "    digit += 1\n",
    "    gamma_str, epsilon_str = stringify(calc_gamma_epsilon(data_copy))\n",
    "    data_copy = list(filter(lambda m: epsilon_str[0:digit] == m[0:digit], data_copy))\n",
    "    print(digit, gamma_str, epsilon_str, data_copy)\n",
    "\n"
   ]
  }
 ],
 "metadata": {
  "interpreter": {
   "hash": "d4cc9412d9f82981c0d7a5a497eb4af5e8ce5b3920eca8d37c4bf47eaa6fede4"
  },
  "kernelspec": {
   "display_name": "Python 3.10.0 64-bit (windows store)",
   "language": "python",
   "name": "python3"
  },
  "language_info": {
   "codemirror_mode": {
    "name": "ipython",
    "version": 3
   },
   "file_extension": ".py",
   "mimetype": "text/x-python",
   "name": "python",
   "nbconvert_exporter": "python",
   "pygments_lexer": "ipython3",
   "version": "3.10.0"
  },
  "orig_nbformat": 4
 },
 "nbformat": 4,
 "nbformat_minor": 2
}
