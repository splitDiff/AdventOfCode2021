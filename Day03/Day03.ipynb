{
 "cells": [
  {
   "cell_type": "markdown",
   "metadata": {},
   "source": []
  },
  {
   "cell_type": "code",
   "execution_count": 43,
   "metadata": {},
   "outputs": [
    {
     "name": "stdout",
     "output_type": "stream",
     "text": [
      "gamma is 218, epsilon is 3877, and the product is 845186\n"
     ]
    }
   ],
   "source": [
    "def calc_gamma_epsilon(data):\n",
    "    results = {}\n",
    "\n",
    "    for row in data:\n",
    "        for i,digit in enumerate(row):\n",
    "            results[i] = results.get(i,0) + int(digit)\n",
    "\n",
    "    gamma = []\n",
    "    epsilon = []\n",
    "\n",
    "    for i, count in results.items():\n",
    "        if count >= (len(data)/2): # more 1s\n",
    "            gamma.append(\"1\")\n",
    "            epsilon.append(\"0\")\n",
    "        else: # more 0s\n",
    "            gamma.append(\"0\")\n",
    "            epsilon.append(\"1\")\n",
    "\n",
    "    gamma_dec = int(\"\".join(gamma),2)\n",
    "    epsilon_dec = int(\"\".join(epsilon),2)\n",
    "\n",
    "    return gamma_dec, epsilon_dec\n",
    "\n",
    "\n",
    "data = open(r\"data1.txt\").readlines()\n",
    "#data = open(r\"data0.txt\").readlines()\n",
    "\n",
    "data = list(map(str.strip, data))\n",
    "\n",
    "data_len = len(data[0])\n",
    "\n",
    "gamma_dec, epsilon_dec = calc_gamma_epsilon(data)\n",
    "\n",
    "print(f\"gamma is {gamma_dec}, epsilon is {epsilon_dec}, and the product is {gamma_dec * epsilon_dec}\")"
   ]
  },
  {
   "cell_type": "markdown",
   "metadata": {},
   "source": [
    "\n"
   ]
  },
  {
   "cell_type": "code",
   "execution_count": 44,
   "metadata": {},
   "outputs": [
    {
     "name": "stdout",
     "output_type": "stream",
     "text": [
      "0 000011011010 111100100101 502\n",
      "1 010011011010 101100100101 258\n",
      "2 010011011010 101100100101 148\n",
      "3 010111011010 101000100101 76\n",
      "4 010111110100 101000001011 41\n",
      "5 010110010000 101001101111 21\n",
      "6 010110110000 101001001111 11\n",
      "7 010110110001 101001001110 6\n",
      "8 010110110011 101001001100 4\n",
      "9 010110110011 101001001100 3\n",
      "10 010110110011 101001001100 2\n",
      "11 010110110011 101001001100 1\n",
      "0 000011011010 111100100101 498\n",
      "1 101111111100 010000000011 236\n",
      "2 111111010000 000000101111 112\n",
      "3 110111101010 001000010101 56\n",
      "4 110011111010 001100000101 28\n",
      "5 110000101010 001111010101 11\n",
      "6 110001001010 001110110101 3\n",
      "7 110001111010 001110000101 1\n",
      "Oxygen Generator Rating is 1459\n",
      "CO2 Scrubber Rating is 3178\n",
      "Their product is 4636702\n"
     ]
    }
   ],
   "source": [
    "\n",
    "def stringify(ge_tuple):\n",
    "\n",
    "    gamma_str = f\"{ge_tuple[0]:b}\".zfill(data_len)\n",
    "    epsilon_str = f\"{ge_tuple[1]:b}\".zfill(data_len)\n",
    "    return gamma_str, epsilon_str\n",
    "\n",
    "digit = -1\n",
    "data_copy = data.copy()\n",
    "while (len(data_copy) > 1):\n",
    "    digit += 1\n",
    "    gamma_str, epsilon_str = stringify(calc_gamma_epsilon(data_copy))\n",
    "    data_copy = list(filter(lambda m: gamma_str[digit] == m[digit], data_copy))\n",
    "    print(digit, gamma_str, epsilon_str, len(data_copy))\n",
    "\n",
    "oxygen_generator_rating = int(data_copy[0], 2)\n",
    "\n",
    "digit = -1\n",
    "data_copy = data.copy()\n",
    "while (len(data_copy) > 1):\n",
    "    digit += 1\n",
    "    gamma_str, epsilon_str = stringify(calc_gamma_epsilon(data_copy))\n",
    "    data_copy = list(filter(lambda m: epsilon_str[digit] == m[digit], data_copy))\n",
    "    print(digit, gamma_str, epsilon_str, len(data_copy))\n",
    "\n",
    "co2_scrubber_rating = int(data_copy[0], 2)\n",
    "\n",
    "print(f\"Oxygen Generator Rating is {oxygen_generator_rating}\\nCO2 Scrubber Rating is {co2_scrubber_rating}\")\n",
    "print(f\"Their product is {oxygen_generator_rating * co2_scrubber_rating}\")\n"
   ]
  }
 ],
 "metadata": {
  "interpreter": {
   "hash": "d4cc9412d9f82981c0d7a5a497eb4af5e8ce5b3920eca8d37c4bf47eaa6fede4"
  },
  "kernelspec": {
   "display_name": "Python 3.10.0 64-bit (windows store)",
   "language": "python",
   "name": "python3"
  },
  "language_info": {
   "codemirror_mode": {
    "name": "ipython",
    "version": 3
   },
   "file_extension": ".py",
   "mimetype": "text/x-python",
   "name": "python",
   "nbconvert_exporter": "python",
   "pygments_lexer": "ipython3",
   "version": "3.10.0"
  },
  "orig_nbformat": 4
 },
 "nbformat": 4,
 "nbformat_minor": 2
}
